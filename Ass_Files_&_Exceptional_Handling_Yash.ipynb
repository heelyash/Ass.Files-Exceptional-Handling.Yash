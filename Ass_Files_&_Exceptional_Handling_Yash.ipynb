{
  "nbformat": 4,
  "nbformat_minor": 0,
  "metadata": {
    "colab": {
      "provenance": []
    },
    "kernelspec": {
      "name": "python3",
      "display_name": "Python 3"
    },
    "language_info": {
      "name": "python"
    }
  },
  "cells": [
    {
      "cell_type": "code",
      "execution_count": null,
      "metadata": {
        "id": "14FJkzjY8Ahz"
      },
      "outputs": [],
      "source": [
        "#Que 1 Discuss the scenarios where multithreading is preferable to multiprocessing and scenarios where and multiprocessing is a better choice?\n",
        "\n",
        "#Ans. #Multiprocessing involves multiple CPUs and usually requires an appropriate operating system to enable efficient resource usage. Multithreading is an engineering approach to\n",
        "#get more efficiency of the processor #within a single process. If you even have a choice, multithreading is more efficient in context switching and memory sharing.\n",
        "\n",
        "#IMHO, multithreading is likely more responsive for a well-designed single process but work throughput will be greater with a multiprocessing system (more computing power\n",
        "#if everything else is equal). Therefore, the #answer depends upon your goals. Not all systems support both so you may not have an actual choice. Ideally, you should do both\n",
        "#since they’re not mutually exclusive to implement.\n",
        "\n",
        "#If you have full control over the system and program development, that’s great. However, if you must leverage third-party libraries that don’t support multithreading,\n",
        "#multiprocessing is the better choice. If I have a #multi-CPU microcontroller (especially without RTOS option), multithreading will be the better choice if you can’t split the\n",
        "#work into multiple processes.\n"
      ]
    },
    {
      "cell_type": "code",
      "source": [
        "#Que 2. Describe what a process pool is and how it helps in managing multiple processes efficiently. ?\n",
        "\n",
        "#Ans.  #The pool allows you to do multiple jobs per process, which may make it easier to parallelize your program. If you have a million tasks to execute in parallel, you can\n",
        "#create a Pool with a number of processes as many #as CPU cores and then pass the list of the million tasks to the pool. Map.\n",
        "\n",
        "\n",
        "\n",
        "#I think choosing an appropriate approach depends on the task at hand. The pool allows you to do multiple jobs per process, which may make it easier to parallelize your program.\n",
        "#If you have a million tasks to execute #in parallel, you can create a Pool with a number of processes as many as CPU cores and then pass the list of the million tasks to the pool.\n",
        "#Map. The pool will distribute those tasks to the worker processes(typically #the same number as available cores), collect the return values as a list, and pass it to the parent\n",
        "#process. Launching separate million processes would be less practical (probably breaking your OS).\n",
        "\n",
        "\n",
        "\n",
        "\n"
      ],
      "metadata": {
        "id": "iR1OOfsk9Csb"
      },
      "execution_count": null,
      "outputs": []
    },
    {
      "cell_type": "code",
      "source": [
        "#Que 3. Explain what multiprocessing is and why it is used in Python programs.\n",
        "\n",
        "#Ans. Multiprocessing in Python - Running Multiple Processes in Parallel. Multiprocessing in Python is a built-in package that allows the system to run multiple processes simultaneously. It will enable the breaking of #applications into smaller threads that can run independently.\n",
        "\n",
        "#Performing multiple operations for a single processor becomes challenging. As the number of processes keeps increasing, the processor will have to halt the current process and move to the next, to keep them #going. Thus, it will have to interrupt each task, thereby hampering the performance.\n",
        "\n",
        "#You can think of it as an employee in an organization tasked to perform jobs in multiple departments. If the employee has to manage the sales, accounts, and even the backend, he will have to stop sales when he is #into accounts and vice versa.\n",
        "\n",
        "#Suppose there are different employees, each to perform a specific task. It becomes simpler, right? That’s why multiprocessing in Python becomes essential. The smaller task threads act like different employees, #making it easier to handle and manage various processes. A multiprocessing system can be represented as:\n",
        "\n",
        "#A system with more than a single central processor\n",
        "#A multi-core processor, i.e., a single computing unit with multiple independent core processing units\n",
        "#In multiprocessing, the system can divide and assign tasks to different processors.\n",
        "\n"
      ],
      "metadata": {
        "id": "BZgSmCgG9yot"
      },
      "execution_count": null,
      "outputs": []
    },
    {
      "cell_type": "code",
      "source": [
        "#Que 4. 4. Write a Python program using multithreading where one thread adds numbers to a list, and anotherthread removes numbers from the list. Implement a mechanism to avoid race conditions using\n",
        "#threading.Lock. ?\n",
        "\n",
        "import threading\n",
        "import time\n",
        "\n",
        "class MyList:\n",
        "    def __init__(self):\n",
        "        self.data = []\n",
        "        self.lock = threading.Lock()\n",
        "\n",
        "    def add(self, item):\n",
        "        with self.lock:\n",
        "            self.data.append(item)\n",
        "            print(f\"Added {item} to the list. Current list: {self.data}\")\n",
        "\n",
        "    def remove(self):\n",
        "        with self.lock:\n",
        "            if self.data:\n",
        "                item = self.data.pop()\n",
        "                print(f\"Removed {item} from the list. Current list: {self.data}\")\n",
        "            else:\n",
        "                print(\"List is empty.\")\n",
        "\n",
        "def add_numbers(my_list):\n",
        "    for i in range(1, 6):\n",
        "        my_list.add(i)\n",
        "        time.sleep(1)\n",
        "\n",
        "def remove_numbers(my_list):\n",
        "    for _ in range(5):\n",
        "        my_list.remove()\n",
        "        time.sleep(1)\n",
        "\n",
        "if __name__ == \"__main__\":\n",
        "    my_list = MyList()\n",
        "\n",
        "    thread1 = threading.Thread(target=add_numbers, args=(my_list,))\n",
        "    thread2 = threading.Thread(target=remove_numbers, args=(my_list,))\n",
        "\n",
        "    thread1.start()\n",
        "    thread2.start()\n",
        "\n",
        "    thread1.join()\n",
        "    thread2.join()\n",
        "\n",
        "    print(\"Finished.\")\n"
      ],
      "metadata": {
        "colab": {
          "base_uri": "https://localhost:8080/"
        },
        "id": "tzF9ugTK-T0K",
        "outputId": "7671478e-fbf4-459b-d011-7706618385ef"
      },
      "execution_count": 1,
      "outputs": [
        {
          "output_type": "stream",
          "name": "stdout",
          "text": [
            "Added 1 to the list. Current list: [1]\n",
            "Removed 1 from the list. Current list: []\n",
            "Added 2 to the list. Current list: [2]\n",
            "Removed 2 from the list. Current list: []\n",
            "Added 3 to the list. Current list: [3]\n",
            "Removed 3 from the list. Current list: []\n",
            "Added 4 to the list. Current list: [4]\n",
            "Removed 4 from the list. Current list: []\n",
            "Added 5 to the list. Current list: [5]\n",
            "Removed 5 from the list. Current list: []\n",
            "Finished.\n"
          ]
        }
      ]
    },
    {
      "cell_type": "code",
      "source": [
        "#Que 5. Describe the methods and tools available in Python for safely sharing data between threads and processes.?\n",
        "\n",
        "#Ans. I have a main thread running Cmd from cmd2. This allows me to interactively start new threads using threading.Thread() performing simulations in \"real-time\". Every time step\n",
        "#the simulation results are put() in a multiprocessing.Queue(). Additionally I can start live plots using matplotlib.animate. I read matplotlib is not thread-safe, so the plots\n",
        "#run as a multiprocessing.Process() and get() the simulation results from the queue.\n",
        "\n",
        "##Unfortunately, once items from the queue are collected, they are deleted from the queue and not available for other threads or processes. This means I can send data from the\n",
        "#simulation threads to the plotting processes, but can't use the simulation results at the same time in my main thread.\n",
        "\n",
        "#A solution could be to have two queues in each simulation thread: one queue to the main thread and one queue to the plotting process. This doesn't seem to be the optimal\n",
        "#solution, but a rather complicated one.\n"
      ],
      "metadata": {
        "id": "CjUBKtjY-ijJ"
      },
      "execution_count": 2,
      "outputs": []
    },
    {
      "cell_type": "code",
      "source": [
        "#Que 6. Discuss why it’s crucial to handle exceptions in concurrent programs and the techniques available for doing so.?\n",
        "\n",
        "#Exception handling is the process of responding to unwanted or unexpected events when a computer program runs. Exception handling deals with these events to avoid the program or\n",
        "#system crashing, and without #this process, exceptions would disrupt the normal operation of a program.\n",
        "\n",
        "#Exceptions occur for numerous reasons, including invalid user input, code errors, device failure, the loss of a network connection, insufficient memory to run an application,\n",
        "#a memory conflict with another program, a #program attempting to divide by zero or a user attempting to open files that are unavailable.\n",
        "\n",
        "#When an exception occurs, specialized programming language constructs, interrupt hardware mechanisms or operating system interprocess communication facilities\n",
        "#handle the exception.\n",
        "\n",
        "#Exception handling differs from error handling in that the former involves conditions an application might catch versus serious problems an application might want to avoid.\n",
        "#In contrast, error handling helps maintain #the normal flow of software program execution.\n",
        "\n",
        "#Exceptions can come in the following two exception classes:\n",
        "\n",
        "#a .Checked exceptions. Also called compile-time exceptions, the compiler checks these exceptions during the compilation process to confirm if the exception is being handled by\n",
        "#the programmer. If not, then a compilation error displays on the system. Checked exceptions include SQLException and ClassNotFoundException.\n",
        "#b .Unchecked exceptions. Also called runtime exceptions, these exceptions occur during program execution. These exceptions are not checked at compile time, so the programmer is\n",
        "#responsible for handling these exceptions. Unchecked exceptions do not give compilation errors. Examples of unchecked exceptions include NullPointerException and IllegalArgumentException."
      ],
      "metadata": {
        "id": "6whTV76U_Y1u"
      },
      "execution_count": null,
      "outputs": []
    },
    {
      "cell_type": "code",
      "source": [
        "#Que 7. Create a program that uses a thread pool to calculate the factorial of numbers from 1 to 10 concurrently.\n",
        "# Use concurrent.futures.ThreadPoolExecutor to manage the threads.\n",
        "\n",
        "import concurrent.futures\n",
        "import threading\n",
        "\n",
        "def factorial(n):\n",
        "  \"\"\"Calculate the factorial of a number.\"\"\"\n",
        "  result = 1\n",
        "  for i in range(1, n + 1):\n",
        "      result *= i\n",
        "  return result\n",
        "\n",
        "def main():\n",
        "  \"\"\"Calculate factorials using a thread pool.\"\"\"\n",
        "  with concurrent.futures.ThreadPoolExecutor() as executor:\n",
        "    # Submit tasks to the pool\n",
        "    results = list(executor.map(factorial, range(1, 11)))\n",
        "\n",
        "  # Print the results\n",
        "  for i, result in enumerate(results):\n",
        "    print(f\"Factorial of {i + 1} is: {result}\")\n",
        "\n",
        "if __name__ == \"__main__\":\n",
        "  main()\n"
      ],
      "metadata": {
        "colab": {
          "base_uri": "https://localhost:8080/"
        },
        "id": "WU6pSdwhA99P",
        "outputId": "cfae3a57-e973-433f-e13d-445b61f25cc7"
      },
      "execution_count": 3,
      "outputs": [
        {
          "output_type": "stream",
          "name": "stdout",
          "text": [
            "Factorial of 1 is: 1\n",
            "Factorial of 2 is: 2\n",
            "Factorial of 3 is: 6\n",
            "Factorial of 4 is: 24\n",
            "Factorial of 5 is: 120\n",
            "Factorial of 6 is: 720\n",
            "Factorial of 7 is: 5040\n",
            "Factorial of 8 is: 40320\n",
            "Factorial of 9 is: 362880\n",
            "Factorial of 10 is: 3628800\n"
          ]
        }
      ]
    },
    {
      "cell_type": "markdown",
      "source": [],
      "metadata": {
        "id": "JxR1pJhPAzA8"
      }
    },
    {
      "cell_type": "code",
      "source": [
        "#Que 8.Create a Python program that uses multiprocessing.Pool to compute the square of numbers from 1 to 10 in\n",
        "# # parallel. Measure the time taken to perform this computation using a pool of different sizes (e.g., 2, 4, 8\n",
        "# # processes).\n",
        "# import multiprocessing\n",
        "# import time\n",
        "# def square(n):\n",
        "#   \"\"\"Calculate the square of a number.\"\"\"\n",
        "#   return n * n\n",
        "# def main():\n",
        "#   \"\"\"Calculate squares using a multiprocessing\n",
        "\n",
        "import multiprocessing\n",
        "import time\n",
        "\n",
        "def square(n):\n",
        "  \"\"\"Calculate the square of a number.\"\"\"\n",
        "  return n * n\n",
        "\n",
        "def main():\n",
        "  \"\"\"Calculate squares using a multiprocessing pool.\"\"\"\n",
        "  numbers = list(range(1, 11))\n",
        "  pool_sizes = [2, 4, 8]\n",
        "\n",
        "  for pool_size in pool_sizes:\n",
        "    with multiprocessing.Pool(processes=pool_size) as pool:\n",
        "      start_time = time.time()\n",
        "      results = pool.map(square, numbers)\n",
        "      end_time = time.time()\n",
        "      print(f\"Pool size: {pool_size}, Time taken: {end_time - start_time:.4f} seconds\")\n",
        "\n",
        "\n",
        "if __name__ == \"__main__\":\n",
        "  main()"
      ],
      "metadata": {
        "colab": {
          "base_uri": "https://localhost:8080/"
        },
        "id": "Jp30oIKhCsDe",
        "outputId": "45d327f1-9cf3-4206-f1a1-473336b19126"
      },
      "execution_count": 4,
      "outputs": [
        {
          "output_type": "stream",
          "name": "stdout",
          "text": [
            "Pool size: 2, Time taken: 0.0123 seconds\n",
            "Pool size: 4, Time taken: 0.0098 seconds\n",
            "Pool size: 8, Time taken: 0.0106 seconds\n"
          ]
        }
      ]
    },
    {
      "cell_type": "code",
      "source": [],
      "metadata": {
        "id": "JgXyagJhCvE_"
      },
      "execution_count": null,
      "outputs": []
    }
  ]
}